{
 "cells": [
  {
   "cell_type": "markdown",
   "metadata": {
    "colab_type": "text",
    "id": "fF7ik7lugKK4"
   },
   "source": [
    "## Question-1 : Problem of anomaly detection"
   ]
  },
  {
   "cell_type": "code",
   "execution_count": 0,
   "metadata": {
    "_uuid": "6980fa485eaa7a0e5e9109bd268ce773f6ddc8d9",
    "colab": {},
    "colab_type": "code",
    "id": "RqR1SbXH2nTi"
   },
   "outputs": [],
   "source": [
    "import pandas as pd\n",
    "import numpy as np\n",
    "import copy\n",
    "from sklearn.mixture import GaussianMixture\n",
    "from sklearn.cluster import AgglomerativeClustering"
   ]
  },
  {
   "cell_type": "markdown",
   "metadata": {
    "colab_type": "text",
    "id": "Vyc8-RmugW99"
   },
   "source": [
    "### Part-1: PCA"
   ]
  },
  {
   "cell_type": "code",
   "execution_count": 0,
   "metadata": {
    "_uuid": "3feae31369e64d996b5237553b2323725329e403",
    "colab": {},
    "colab_type": "code",
    "id": "NvSTjNc5hObK"
   },
   "outputs": [],
   "source": [
    "def pca():\n",
    "    data=pd.read_csv(\"data.csv\").values\n",
    "    X=data[:,0:29]\n",
    "    Y=data[:,29]\n",
    "    X = np.array(X, dtype=np.float64)\n",
    "    X=(X-X.mean(axis=0))/(X.std(axis=0))\n",
    "    meanVector=np.mean(X, axis=0)\n",
    "    n=X.shape[0]-1 #actually this is n-1\n",
    "    covarianceMat=(X-meanVector).T.dot((X-meanVector))/n\n",
    "    eigVals,eigVecs=np.linalg.eig(covarianceMat)\n",
    "    totalEValues=len(eigVals)\n",
    "    EvalueVectorPairs=[(np.abs(eigVals[x]),eigVecs[:,x]) for x in range(totalEValues)]\n",
    "    EvalueVectorPairs.sort()\n",
    "    EvalueVectorPairs.reverse()\n",
    "    total=0\n",
    "    for i in EvalueVectorPairs:\n",
    "        total+=i[0]\n",
    "    k=0\n",
    "    ans=0\n",
    "    for i in EvalueVectorPairs:\n",
    "        if ans>0.9:\n",
    "            break\n",
    "        ans+=i[0]/total\n",
    "        k+=1\n",
    "#     print(\"Reduced dimensions: \",k)\n",
    "    final=[]\n",
    "    for i in range(k):\n",
    "        final.append(EvalueVectorPairs[i][1].reshape(29,1))\n",
    "    matrix_w = np.hstack(final)\n",
    "\n",
    "    reducedFeatures=X.dot(matrix_w)\n",
    "    return (k,reducedFeatures,Y)\n",
    "#   reconstructed=reducedFeatures.dot(matrix_w.T)\n",
    "#   print(100*np.linalg.norm(reconstructed)/np.linalg.norm(X))\n",
    "  \n",
    "  "
   ]
  },
  {
   "cell_type": "code",
   "execution_count": 105,
   "metadata": {
    "_uuid": "6d5b80db94bbc9294a4029e1e42f908417f01157",
    "colab": {
     "base_uri": "https://localhost:8080/",
     "height": 34
    },
    "colab_type": "code",
    "id": "BruAUF0fr2qb",
    "outputId": "0dd1bcd9-45cc-40f3-9296-b08d9e804d02"
   },
   "outputs": [
    {
     "name": "stdout",
     "output_type": "stream",
     "text": [
      "Reduced Dimensions:   14\n"
     ]
    }
   ],
   "source": [
    "print(\"Reduced Dimensions:  \",pca()[0])"
   ]
  },
  {
   "cell_type": "markdown",
   "metadata": {
    "_uuid": "696cf8b0092aa4027c86f6d52b86900e82520ba6",
    "colab_type": "text",
    "id": "kJIwBjd8nMUk"
   },
   "source": [
    "### Part-2 : K-Means Clustering"
   ]
  },
  {
   "cell_type": "code",
   "execution_count": 0,
   "metadata": {
    "_uuid": "f164d785477b00579a7224938211c14065b13ebe",
    "colab": {},
    "colab_type": "code",
    "id": "aur-MfThseKC"
   },
   "outputs": [],
   "source": [
    "# Euclidean Distance\n",
    "def distance(x,y,ax=1):\n",
    "    return np.linalg.norm(x - y, axis=ax)"
   ]
  },
  {
   "cell_type": "code",
   "execution_count": 0,
   "metadata": {
    "_uuid": "265d86f831b4fb6d3557cbf4071815219ada1f9c",
    "colab": {},
    "colab_type": "code",
    "id": "Wt-86K0InPcp"
   },
   "outputs": [],
   "source": [
    "def KMeans(k,forgraph=False):\n",
    "    data=pca()\n",
    "    dimensions=data[0]\n",
    "    X=data[1]\n",
    "    X=(X-X.mean(axis=0))/(X.std(axis=0))\n",
    "    Y=data[2]\n",
    "    count=0\n",
    "    cc=[]\n",
    "    for i in range(k):\n",
    "        centroid=np.random.random_sample(dimensions)\n",
    "        cc.append(centroid)\n",
    "    newCentroids=np.array(cc)\n",
    "    oldCentroids=np.zeros(newCentroids.shape)\n",
    "    clusterMap=np.zeros(len(X))\n",
    "    error=distance(newCentroids,oldCentroids,None)\n",
    "#     print(error)\n",
    "    count=0\n",
    "    clusterPoints={}\n",
    "    while error>0.01:\n",
    "#         print(count)\n",
    "        for i in range(len(X)):\n",
    "            dist=distance(X[i],newCentroids)\n",
    "            clusterMap[i]=np.argmin(dist)\n",
    "        oldCentroids=copy.deepcopy(newCentroids)\n",
    "    # Finding the new centroids by taking the average value\n",
    "        for i in range(k):\n",
    "            points=[]\n",
    "            indexes=[]\n",
    "            for j in range(len(X)):\n",
    "                if clusterMap[j]==i:\n",
    "                    points.append(X[j])\n",
    "                    indexes.append(j)\n",
    "#             points=[X[j] for j in range(len(X)) if clusterMap[j]==i]\n",
    "#             print(\"da \",len(points))\n",
    "            if len(points)>0:\n",
    "                newCentroids[i]=np.mean(points,axis=0)\n",
    "            clusterPoints[i]=indexes\n",
    "        error=distance(newCentroids,oldCentroids,None)\n",
    "#         print(error)\n",
    "        count+=1\n",
    "    methodPurity=0\n",
    "    graphLabels=[]\n",
    "    graphClusters=[]\n",
    "    for key in clusterPoints.keys():\n",
    "        indexes=clusterPoints[key]\n",
    "        labels=np.array([ Y[index] for index in indexes])\n",
    "        uniq,counts=np.unique(labels,return_counts=True)\n",
    "        countIndex=np.argmax(counts)\n",
    "        methodPurity+=counts[countIndex]\n",
    "        if forgraph:\n",
    "          graphLabels.append(uniq[countIndex]+\" : \"+str(counts[countIndex]/len(indexes)))\n",
    "          graphClusters.append(len(indexes))\n",
    "          continue\n",
    "        print(\"========================================\")\n",
    "        print(\"Cluster: \",key+1)\n",
    "        print(\"========================================\")\n",
    "        print(\"%10s || %2s \"%(\"class\",\"count\"))\n",
    "        print(\"________________________\")\n",
    "        for a,b in zip(uniq,counts):\n",
    "          print(\"%10s || %2s \"%(a,b))\n",
    "        print()\n",
    "        print(\"Max class '%s' with purity %s . \"%(uniq[countIndex],counts[countIndex]/len(indexes)))\n",
    "        print(\"========================================\")\n",
    "    if forgraph:\n",
    "      return (methodPurity/len(X),graphLabels,graphClusters)\n",
    " \n",
    "    print(\"Method clustering Purity= \",methodPurity/len(X))\n",
    "    \n",
    "  "
   ]
  },
  {
   "cell_type": "code",
   "execution_count": 142,
   "metadata": {
    "_uuid": "e587c37de8a4aca58e534f6505cebb56c7571334",
    "colab": {
     "base_uri": "https://localhost:8080/",
     "height": 1054
    },
    "colab_type": "code",
    "id": "r_aBGToKrNYY",
    "outputId": "a769db14-23ce-42b2-9269-0ff2275b2824",
    "scrolled": false
   },
   "outputs": [
    {
     "name": "stdout",
     "output_type": "stream",
     "text": [
      "========================================\n",
      "Cluster:  1\n",
      "========================================\n",
      "     class || count \n",
      "________________________\n",
      "       dos || 456 \n",
      "    normal || 620 \n",
      "     probe ||  9 \n",
      "\n",
      "Max class 'normal' with purity 0.5714285714285714 . \n",
      "========================================\n",
      "========================================\n",
      "Cluster:  2\n",
      "========================================\n",
      "     class || count \n",
      "________________________\n",
      "       dos || 41 \n",
      "    normal || 809 \n",
      "     probe || 979 \n",
      "       r2l || 58 \n",
      "\n",
      "Max class 'probe' with purity 0.5188129305776364 . \n",
      "========================================\n",
      "========================================\n",
      "Cluster:  3\n",
      "========================================\n",
      "     class || count \n",
      "________________________\n",
      "       dos || 6791 \n",
      "    normal || 47 \n",
      "     probe || 27 \n",
      "       r2l ||  8 \n",
      "\n",
      "Max class 'dos' with purity 0.988069256510985 . \n",
      "========================================\n",
      "========================================\n",
      "Cluster:  4\n",
      "========================================\n",
      "     class || count \n",
      "________________________\n",
      "       dos || 1367 \n",
      "    normal || 546 \n",
      "     probe || 299 \n",
      "       r2l || 10 \n",
      "\n",
      "Max class 'dos' with purity 0.6152115211521152 . \n",
      "========================================\n",
      "========================================\n",
      "Cluster:  5\n",
      "========================================\n",
      "     class || count \n",
      "________________________\n",
      "       dos || 459 \n",
      "    normal || 11342 \n",
      "     probe || 999 \n",
      "       r2l || 121 \n",
      "       u2r || 10 \n",
      "\n",
      "Max class 'normal' with purity 0.8771170056453483 . \n",
      "========================================\n",
      "Method clustering Purity=  0.8440275222017761\n"
     ]
    }
   ],
   "source": [
    "KMeans(5)"
   ]
  },
  {
   "cell_type": "markdown",
   "metadata": {
    "colab_type": "text",
    "id": "nO-TXmJ5cbRB"
   },
   "source": [
    "### Part-3 : Gaussian Mixture Model"
   ]
  },
  {
   "cell_type": "code",
   "execution_count": 0,
   "metadata": {
    "_uuid": "975c6c6c1e26b3ab687027fcded5fb64dcf6b2e6",
    "colab": {},
    "colab_type": "code",
    "id": "Xr0MGmlpQzC7"
   },
   "outputs": [],
   "source": [
    "def gMM(k,forgraph=False):\n",
    "    data=pca()\n",
    "    dimensions=data[0]\n",
    "    X=data[1]\n",
    "#     X=(X-X.mean(axis=0))/(X.std(axis=0))\n",
    "    Y=data[2]\n",
    "    gmm = GaussianMixture(n_components = k)\n",
    "    gmm.fit(X)\n",
    "    labels=gmm.predict(X) \n",
    "    labelsDict={}\n",
    "    for index,label in enumerate(labels):\n",
    "        labelsDict.setdefault(label,[]).append(index)\n",
    "    methodPurity=0\n",
    "    graphLabels=[]\n",
    "    graphClusters=[]\n",
    "    for key in labelsDict.keys():\n",
    "        indexes=labelsDict[key]\n",
    "        labelss=np.array([Y[index] for index in indexes])\n",
    "        uniq,counts=np.unique(labelss,return_counts=True)\n",
    "        countIndex=np.argmax(counts)\n",
    "        methodPurity+=counts[countIndex]\n",
    "        if forgraph:\n",
    "          graphLabels.append(uniq[countIndex]+\" : \"+str(counts[countIndex]/len(indexes)))\n",
    "          graphClusters.append(len(indexes))\n",
    "          continue\n",
    "        print(\"========================================\")\n",
    "        print(\"Cluster: \",key+1)\n",
    "        print(\"========================================\")\n",
    "        print(\"%10s || %2s \"%(\"class\",\"count\"))\n",
    "        print(\"________________________\")\n",
    "        for a,b in zip(uniq,counts):\n",
    "          print(\"%10s || %2s \"%(a,b))\n",
    "        print()\n",
    "        print(\"Max class '%s' with purity %s . \"%(uniq[countIndex],counts[countIndex]/len(indexes)))       \n",
    "        print(\"========================================\")\n",
    "    if forgraph:\n",
    "      return (methodPurity/len(X),graphLabels,graphClusters)\n",
    "    print(\"Method clustering Purity= \",methodPurity/len(X))"
   ]
  },
  {
   "cell_type": "code",
   "execution_count": 113,
   "metadata": {
    "_uuid": "d7209505eb7547248a721496167076d312596f74",
    "colab": {
     "base_uri": "https://localhost:8080/",
     "height": 1020
    },
    "colab_type": "code",
    "id": "B5bef85MQzDC",
    "outputId": "82ecae21-ecb9-4279-c000-59ae910024c6"
   },
   "outputs": [
    {
     "name": "stdout",
     "output_type": "stream",
     "text": [
      "========================================\n",
      "Cluster:  1\n",
      "========================================\n",
      "     class || count \n",
      "________________________\n",
      "       dos || 587 \n",
      "    normal || 9916 \n",
      "     probe || 895 \n",
      "       r2l || 94 \n",
      "       u2r ||  3 \n",
      "\n",
      "Max class 'normal' with purity 0.8626359286646368 . \n",
      "========================================\n",
      "========================================\n",
      "Cluster:  4\n",
      "========================================\n",
      "     class || count \n",
      "________________________\n",
      "       dos || 1475 \n",
      "    normal || 2753 \n",
      "     probe || 1338 \n",
      "       r2l || 13 \n",
      "\n",
      "Max class 'normal' with purity 0.4934576088904822 . \n",
      "========================================\n",
      "========================================\n",
      "Cluster:  3\n",
      "========================================\n",
      "     class || count \n",
      "________________________\n",
      "       dos || 6333 \n",
      "\n",
      "Max class 'dos' with purity 1.0 . \n",
      "========================================\n",
      "========================================\n",
      "Cluster:  2\n",
      "========================================\n",
      "     class || count \n",
      "________________________\n",
      "       dos || 719 \n",
      "    normal || 683 \n",
      "     probe || 79 \n",
      "       r2l || 89 \n",
      "       u2r ||  7 \n",
      "\n",
      "Max class 'dos' with purity 0.4559289790741915 . \n",
      "========================================\n",
      "========================================\n",
      "Cluster:  5\n",
      "========================================\n",
      "     class || count \n",
      "________________________\n",
      "    normal || 12 \n",
      "     probe ||  1 \n",
      "       r2l ||  1 \n",
      "\n",
      "Max class 'normal' with purity 0.8571428571428571 . \n",
      "========================================\n",
      "Method clustering Purity=  0.7893831506520521\n"
     ]
    }
   ],
   "source": [
    "gMM(5)"
   ]
  },
  {
   "cell_type": "markdown",
   "metadata": {
    "colab_type": "text",
    "id": "1k02-gWIhm8d"
   },
   "source": [
    "### Part-4: Heirarchical Clustering and Pie chart comparision between clustering methods"
   ]
  },
  {
   "cell_type": "code",
   "execution_count": 0,
   "metadata": {
    "_uuid": "431b79a0c88e29ee03dbd789cc4d5820b492c510",
    "colab": {},
    "colab_type": "code",
    "id": "QYqPGotyQzDI"
   },
   "outputs": [],
   "source": [
    "def heirarchical(k,forgraph=False):\n",
    "    data=pca()\n",
    "    dimensions=data[0]\n",
    "    X=data[1]\n",
    "    Y=data[2]\n",
    "    aglo = AgglomerativeClustering(linkage=\"single\", n_clusters=k)\n",
    "    aglo.fit(X)\n",
    "    labels=aglo.labels_\n",
    "#     print((labels))\n",
    "    labelsDict={}\n",
    "    for index,label in enumerate(labels):\n",
    "        labelsDict.setdefault(label,[]).append(index)\n",
    "    methodPurity=0\n",
    "    graphLabels=[]\n",
    "    graphClusters=[]\n",
    "    for key in labelsDict.keys():\n",
    "        indexes=labelsDict[key]\n",
    "        labelss=np.array([Y[index] for index in indexes])\n",
    "        uniq,counts=np.unique(labelss,return_counts=True)\n",
    "        countIndex=np.argmax(counts)\n",
    "        methodPurity+=counts[countIndex]\n",
    "        if forgraph:\n",
    "          graphLabels.append(uniq[countIndex]+\" : \"+str(counts[countIndex]/len(indexes)))\n",
    "          graphClusters.append(len(indexes))\n",
    "          continue\n",
    "        print(\"========================================\")\n",
    "        print(\"Cluster: \",key+1)\n",
    "        print(\"========================================\")\n",
    "        print(\"%10s || %2s \"%(\"class\",\"count\"))\n",
    "        print(\"________________________\")\n",
    "        for a,b in zip(uniq,counts):\n",
    "          print(\"%10s || %2s \"%(a,b))\n",
    "        print()\n",
    "        print(\"Max class '%s' with purity %s . \"%(uniq[countIndex],counts[countIndex]/len(indexes)))\n",
    "        print(\"========================================\")\n",
    "    if forgraph:\n",
    "      return (methodPurity/len(X),graphLabels,graphClusters)\n",
    "    print(\"Method clustering Purity= \",methodPurity/len(X))"
   ]
  },
  {
   "cell_type": "code",
   "execution_count": 115,
   "metadata": {
    "colab": {
     "base_uri": "https://localhost:8080/",
     "height": 884
    },
    "colab_type": "code",
    "id": "xERSy7dCR5jR",
    "outputId": "951a8506-3c0f-4fb8-ea69-a6a8f887eeda"
   },
   "outputs": [
    {
     "name": "stdout",
     "output_type": "stream",
     "text": [
      "========================================\n",
      "Cluster:  1\n",
      "========================================\n",
      "     class || count \n",
      "________________________\n",
      "       dos || 9114 \n",
      "    normal || 13360 \n",
      "     probe || 2312 \n",
      "       r2l || 193 \n",
      "       u2r || 10 \n",
      "\n",
      "Max class 'normal' with purity 0.5346352395053824 . \n",
      "========================================\n",
      "========================================\n",
      "Cluster:  3\n",
      "========================================\n",
      "     class || count \n",
      "________________________\n",
      "    normal ||  2 \n",
      "       r2l ||  4 \n",
      "\n",
      "Max class 'r2l' with purity 0.6666666666666666 . \n",
      "========================================\n",
      "========================================\n",
      "Cluster:  5\n",
      "========================================\n",
      "     class || count \n",
      "________________________\n",
      "    normal ||  1 \n",
      "\n",
      "Max class 'normal' with purity 1.0 . \n",
      "========================================\n",
      "========================================\n",
      "Cluster:  4\n",
      "========================================\n",
      "     class || count \n",
      "________________________\n",
      "    normal ||  1 \n",
      "\n",
      "Max class 'normal' with purity 1.0 . \n",
      "========================================\n",
      "========================================\n",
      "Cluster:  2\n",
      "========================================\n",
      "     class || count \n",
      "________________________\n",
      "     probe ||  1 \n",
      "\n",
      "Max class 'probe' with purity 1.0 . \n",
      "========================================\n",
      "Method clustering Purity=  0.5347227778222258\n"
     ]
    }
   ],
   "source": [
    "heirarchical(5)"
   ]
  },
  {
   "cell_type": "code",
   "execution_count": 143,
   "metadata": {
    "colab": {
     "base_uri": "https://localhost:8080/",
     "height": 541
    },
    "colab_type": "code",
    "id": "_VCykxDJhzrC",
    "outputId": "4c5d6598-4058-4758-eea7-872abfff8e65"
   },
   "outputs": [
    {
     "name": "stdout",
     "output_type": "stream",
     "text": [
      "Pie chart comparing purity of KNN,GMM, and herirchical along with resp. clusters purity\n"
     ]
    },
    {
     "data": {
      "image/png": "[encoded data removed]",
      "text/plain": [
       "<Figure size 576x396 with 1 Axes>"
      ]
     },
     "metadata": {
      "tags": []
     },
     "output_type": "display_data"
    }
   ],
   "source": [
    "import matplotlib.pyplot as plt\n",
    "\n",
    "fig, ax = plt.subplots()\n",
    "km=KMeans(5,True)\n",
    "gm=gMM(5,True)\n",
    "heir=heirarchical(5,True)\n",
    "\n",
    "size = 0.6\n",
    "labels1=[\"K-Means Clustering (Purity = \"+str(km[0])+\")\",\"GMM Clustring (Purity = \"+str(gm[0])+\")\",\"Heirarchical clustering (Purity = \"+str(heir[0])+\")\"]\n",
    "vals = np.array([km[2], gm[2], heir[2]])\n",
    "\n",
    "cmap = plt.get_cmap(\"tab20c\")\n",
    "outer_colors = cmap(np.arange(3)*4)\n",
    "# inner_colors = cmap(np.array([1,2,3,4,5,8,9,10,11,12,15,16,17,18,19]))\n",
    "labels2=km[1]+gm[1]+heir[1]\n",
    "# print(vals)\n",
    "# print(labels1)\n",
    "# print(labels2)\n",
    "\n",
    "ax.pie(vals.sum(axis=1), radius=2, colors=outer_colors,wedgeprops=dict(width=size, edgecolor='w'),labels=labels1)\n",
    "\n",
    "# plt.figure(figsize=(30,30))\n",
    "print(\"Pie chart comparing purity of KNN,GMM, and herirchical along with resp. clusters purity\")\n",
    "ax.pie(vals.flatten(),rotatelabels=True,labeldistance=0.7,radius=2-size,wedgeprops=dict(width=size, edgecolor='w'),labels=labels2)\n",
    "plt.show()"
   ]
  },
  {
   "cell_type": "code",
   "execution_count": 0,
   "metadata": {
    "colab": {},
    "colab_type": "code",
    "id": "QepfwKf4mPti"
   },
   "outputs": [],
   "source": []
  }
 ],
 "metadata": {
  "colab": {
   "collapsed_sections": [],
   "name": "kernel.ipynb",
   "provenance": [],
   "version": "0.3.2"
  },
  "kernelspec": {
   "display_name": "Python 3",
   "language": "python",
   "name": "python3"
  },
  "language_info": {
   "codemirror_mode": {
    "name": "ipython",
    "version": 3
   },
   "file_extension": ".py",
   "mimetype": "text/x-python",
   "name": "python",
   "nbconvert_exporter": "python",
   "pygments_lexer": "ipython3",
   "version": "3.7.1"
  }
 },
 "nbformat": 4,
 "nbformat_minor": 1
}
