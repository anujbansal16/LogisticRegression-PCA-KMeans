{
 "cells": [
  {
   "cell_type": "markdown",
   "metadata": {
    "_uuid": "354a7687f63738eb6b907caf2bba8b65f8bb4f21"
   },
   "source": [
    "# Assignment-3"
   ]
  },
  {
   "cell_type": "markdown",
   "metadata": {
    "_uuid": "86c3983293375b2823e6047dad6e705b3487ff51"
   },
   "source": [
    "## - Import Libraries\n",
    "\n",
    "Import necessary libraries used in these assignment."
   ]
  },
  {
   "cell_type": "code",
   "execution_count": 1,
   "metadata": {
    "_uuid": "fc4fdd64fa9ab5cc34bb68be19c156e4997db46e"
   },
   "outputs": [],
   "source": [
    "import numpy as np\n",
    "import pandas as pd\n",
    "import copy\n",
    "import math\n",
    "import operator\n",
    "import matplotlib.pyplot as plt\n",
    "import matplotlib as mpl"
   ]
  },
  {
   "cell_type": "code",
   "execution_count": 2,
   "metadata": {
    "_uuid": "cb493de6528476e180cf5c7c0830155f2ab0648e"
   },
   "outputs": [],
   "source": [
    "def splitTrainTest(data,percent):\n",
    "    total=len(data)\n",
    "    trainTotal=int(total*percent*0.01)\n",
    "    testTotal=total-trainTotal\n",
    "    return (data[0:trainTotal],data[trainTotal:total])"
   ]
  },
  {
   "cell_type": "code",
   "execution_count": 3,
   "metadata": {
    "_uuid": "2847821b25ad479c36e59ccb92ada63e365b7f51"
   },
   "outputs": [],
   "source": [
    "def traintestXY(train,test,independentVariable,targetIndex):\n",
    "    trainX=train[:,independentVariable]\n",
    "    trainX=((trainX-trainX.mean(axis=0))/trainX.std(axis=0))    \n",
    "    testX=test[:,independentVariable]\n",
    "    testX=((testX-testX.mean(axis=0))/testX.std(axis=0))    \n",
    "    trainY=train[:,targetIndex]\n",
    "    trainY=trainY.reshape(-1,1)\n",
    "    testY=test[:,targetIndex]\n",
    "    return (trainX,trainY,testX,testY)"
   ]
  },
  {
   "cell_type": "markdown",
   "metadata": {
    "_uuid": "d10eb7cb33e13d81d3df6ebb3963646f5cbfd758"
   },
   "source": [
    "## Question-2"
   ]
  },
  {
   "cell_type": "markdown",
   "metadata": {
    "_uuid": "af4510dab8b1f59252da67ea0ab6d7fccfc5ec46"
   },
   "source": [
    "### Part-1: Logistic Regression Model"
   ]
  },
  {
   "cell_type": "markdown",
   "metadata": {
    "_uuid": "ed0a3fba7a4fec165a7532daaebd5584d096fe24"
   },
   "source": [
    "**Sigmoid Function**\n",
    "$$ h_ \\theta (x) =  \\frac{\\mathrm{1} }{\\mathrm{1} + e^- \\theta^Tx }  $$ \n"
   ]
  },
  {
   "cell_type": "code",
   "execution_count": 4,
   "metadata": {
    "_uuid": "498bca79e3aeb1764f9a2cb8ea4a839138b3d88a"
   },
   "outputs": [],
   "source": [
    "def sigmoid(x):\n",
    "    return 1/(1+np.e**(-x))"
   ]
  },
  {
   "cell_type": "code",
   "execution_count": 5,
   "metadata": {
    "_uuid": "c4c6c1a89f833ce21f615b98e306bb5ed8e6a438"
   },
   "outputs": [],
   "source": [
    "def logisticLoss(yactual,hx):\n",
    "    return -np.mean(yactual*np.log(hx)+(1-yactual)*np.log(1-hx))"
   ]
  },
  {
   "cell_type": "markdown",
   "metadata": {
    "_uuid": "63b8f28d443c539f4daa51efd0365e6d1245f5f7"
   },
   "source": [
    "To implement the logistic regression model we carried out gradient decent algorithm to find of optimal value of $\\theta$ and intercept to minimize the loss function thereby taking its partial derivative w.r.t $\\theta$ and the intercept.\n",
    "\n",
    "**Loss Function**\n",
    "$$l(\\theta ) = \\frac{1}{m} \\sum_{i=1}^m[-y_i log(h_\\theta (x_i) – (1 – y_i) log(1-h_\\theta (x_i))]$$\n",
    "\n",
    "**Derivations**\n",
    "$$\\frac{\\partial l(\\theta) }{\\partial \\theta} =  (y-h_ \\theta (x))x $$ "
   ]
  },
  {
   "cell_type": "code",
   "execution_count": 6,
   "metadata": {
    "_uuid": "d2cec69ac42980dbdc21ff3c3f2bf223e94ba5e0",
    "scrolled": true
   },
   "outputs": [],
   "source": [
    "def logistic(data,percent=80,thresold=0.5,independentVariable=[1,2,3,4,5,6,7],targetIndex=8,learningRate=0.1,attr=None,explicitTest=[]):\n",
    "    \n",
    "    if attr!=None:\n",
    "            if len(explicitTest)>0:\n",
    "                #one to one\n",
    "                train=data\n",
    "                test=explicitTest\n",
    "                train[:,targetIndex]=[1 if x==attr else 0 for x in train[:,targetIndex]]\n",
    "            else:\n",
    "                #one to many\n",
    "                train,test=splitTrainTest(data,percent)\n",
    "                train[:,targetIndex]=[1 if x==attr else 0 for x in train[:,targetIndex]]\n",
    "                \n",
    "    else:\n",
    "        #normal logistic\n",
    "        train,test=splitTrainTest(data,percent)\n",
    "        train[:,targetIndex]=[1 if x>=thresold else 0 for x in train[:,targetIndex]]\n",
    "        test[:,targetIndex]=[1 if x>=thresold else 0 for x in test[:,targetIndex]]\n",
    "    \n",
    "    trainX=train[:,independentVariable]\n",
    "    trainX=((trainX-trainX.mean(axis=0))/trainX.std(axis=0))    \n",
    "    trainY=train[:,targetIndex]\n",
    "    \n",
    "    testX=test[:,independentVariable]\n",
    "    testX=((testX-testX.mean(axis=0))/testX.std(axis=0))    \n",
    "    testY=test[:,targetIndex]\n",
    "    \n",
    "    m=len(trainX)\n",
    "    trainY=trainY.reshape(-1,1)\n",
    "    \n",
    "    theta=np.zeros((len(independentVariable),1))\n",
    "    intercept=np.zeros((1,1))\n",
    "    \n",
    "    for epoch in range(6000):\n",
    "        ypred=np.matmul(trainX,theta)+intercept\n",
    "        hx=sigmoid(ypred)\n",
    "        dz=hx-trainY\n",
    "        dTheta=np.matmul(trainX.T,dz)/m\n",
    "        dintercept=np.sum(dz)\n",
    "\n",
    "        theta=theta-learningRate*dTheta\n",
    "        intercept=intercept-learningRate*dintercept\n",
    "#     print(\"=========================================\")\n",
    "#     print(\"Intercept: \")\n",
    "#     print(intercept)\n",
    "#     print(\"Coefficents: \")\n",
    "#     print(theta)\n",
    "#     print(\"=========================================\")\n",
    "    testPred=np.matmul(testX,theta)+intercept\n",
    "        \n",
    "    hxTest=sigmoid(testPred)\n",
    "    if attr!=None:\n",
    "        return (hxTest,testY)\n",
    "    \n",
    "    \n",
    "    \n",
    "    accuracyList=[]\n",
    "    precisionList=[]\n",
    "    recallList=[]\n",
    "    f1ScoreList=[]\n",
    "    count=0\n",
    "    TP=0\n",
    "    TN=0\n",
    "    FP=0\n",
    "    FN=0\n",
    "    precision=0\n",
    "    recall=0\n",
    "    for a,b in zip(testY,hxTest):\n",
    "        orig=a\n",
    "        if b>=thresold:\n",
    "            pred=1\n",
    "        else:\n",
    "            pred=0\n",
    "        if orig==pred:\n",
    "            count+=1\n",
    "            if pred==1:\n",
    "                TP+=1\n",
    "            else:\n",
    "                TN+=1\n",
    "        else:\n",
    "            if pred==1:\n",
    "                FP+=1\n",
    "            else:\n",
    "                FN+=1\n",
    "#         print(\"%10s | %10s\"%(a,b))\n",
    "    accuracy=count/len(testY)\n",
    "    recall=TP/(TP+FN)\n",
    "    precision=TP/(TP+FP)\n",
    "    f1score=(2*recall*precision)/(recall+precision)\n",
    "\n",
    "    return (accuracy,precision,recall,f1score)\n"
   ]
  },
  {
   "cell_type": "code",
   "execution_count": 7,
   "metadata": {
    "_uuid": "047267003a03d3aee0d8dbbec68be8c70f8e408d"
   },
   "outputs": [
    {
     "name": "stdout",
     "output_type": "stream",
     "text": [
      "=================================\n",
      "Accuracy:  0.9666666666666667\n",
      "Precision:  0.9659090909090909\n",
      "Recall:  1.0\n",
      "f1-score:  0.9826589595375723\n",
      "=================================\n"
     ]
    }
   ],
   "source": [
    "def runlog():\n",
    "    data=pd.read_csv(\"AdmissionDataset/data.csv\")\n",
    "    data=data.sample(frac=1).values\n",
    "    accuracy,precision,recall,f1score=logistic(data,80,0.5)\n",
    "    print(\"=================================\")\n",
    "    print(\"Accuracy: \",accuracy)\n",
    "    print(\"Precision: \",precision)\n",
    "    print(\"Recall: \",recall)\n",
    "    print(\"f1-score: \",f1score)\n",
    "    print(\"=================================\")\n",
    "runlog()"
   ]
  },
  {
   "cell_type": "markdown",
   "metadata": {
    "_uuid": "1259301f1b0819df1e25de66defe7ca4e6f296e4"
   },
   "source": [
    "### Part-2: Comparision of logistic regression and KNN model"
   ]
  },
  {
   "cell_type": "markdown",
   "metadata": {
    "_uuid": "cac54de7eebed97ca3a3da97db3f3413f2165c9e"
   },
   "source": [
    "**Distance Measure for KNN-Minowski**\n",
    "\n",
    "$$ \\left(\\sum_{i=1}^n |x_i-y_i|^p\\right)^{1/p}$$"
   ]
  },
  {
   "cell_type": "code",
   "execution_count": 8,
   "metadata": {
    "_uuid": "6000b72f9886cfdd9f98edb15a7ff5476bb70fb1"
   },
   "outputs": [],
   "source": [
    "def distMeasure(dataset,testdataset,targetIndex,p):\n",
    "    n=len(testdataset)\n",
    "    dist=0\n",
    "    for i in range(n):\n",
    "        if i==targetIndex:continue\n",
    "        dist+=math.pow(abs(dataset[i]-testdataset[i]),p);\n",
    "    return math.pow(dist,1/p)"
   ]
  },
  {
   "cell_type": "code",
   "execution_count": 9,
   "metadata": {
    "_uuid": "bd7f393d7c0b6c69a7678db0f224478d5c90a35f"
   },
   "outputs": [],
   "source": [
    "def KNNAlgo(train,testRecord,k,targetIndex,p):\n",
    "    dists={}\n",
    "    count=0\n",
    "    if p==3:\n",
    "        funct=chebyshev\n",
    "    else:\n",
    "        funct=distMeasure\n",
    "    for trainRecord in train:\n",
    "        dist=funct(trainRecord,testRecord,targetIndex,p)\n",
    "        dists[(str(trainRecord),trainRecord[targetIndex],count)]=dist\n",
    "        count+=1\n",
    "    sortedDict= sorted(dists.items(), key=operator.itemgetter(1))\n",
    "    labelDict={}\n",
    "    for i in range(k):\n",
    "        if sortedDict[i][0][1] in labelDict.keys():\n",
    "            labelDict[sortedDict[i][0][1]]+=1\n",
    "        else:\n",
    "            labelDict[sortedDict[i][0][1]]=1\n",
    "    return max(labelDict.items(),key=operator.itemgetter(1))[0]"
   ]
  },
  {
   "cell_type": "code",
   "execution_count": 10,
   "metadata": {
    "_uuid": "176f74918a083fd515783d51e944219cf9379589"
   },
   "outputs": [],
   "source": [
    "def predict(train,test,k,targetIndex,p):\n",
    "    count=0\n",
    "    TP=0\n",
    "    TN=0\n",
    "    FP=0\n",
    "    FN=0\n",
    "    precision=0\n",
    "    recall=0\n",
    "    for testRecord in test:\n",
    "        predicted=KNNAlgo(train,testRecord,k,targetIndex,p)\n",
    "        actual=testRecord[targetIndex]\n",
    "        if actual==predicted:\n",
    "            count+=1\n",
    "            if predicted==1:\n",
    "                TP+=1\n",
    "            else:\n",
    "                TN+=1\n",
    "        else:\n",
    "            if predicted==1:\n",
    "                FP+=1\n",
    "            else:\n",
    "                FN+=1\n",
    "    accuracy=count/len(test)\n",
    "    recall=TP/(TP+FN)\n",
    "    precision=TP/(TP+FP)\n",
    "    f1score=(2*recall*precision)/(recall+precision)\n",
    "    return (accuracy,precision,recall,f1score)"
   ]
  },
  {
   "cell_type": "code",
   "execution_count": 13,
   "metadata": {
    "_uuid": "d3c95c0e956d835cae4dc6552a9b27bb5016e861",
    "scrolled": true
   },
   "outputs": [
    {
     "name": "stdout",
     "output_type": "stream",
     "text": [
      "====================================\n",
      "Performance of Logistic Regression\n",
      "=================================\n",
      "Accuracy:  0.9333333333333333\n",
      "Precision:  0.9411764705882353\n",
      "Recall:  0.9876543209876543\n",
      "f1-score:  0.963855421686747\n",
      "=================================\n",
      "Performance of KNN model\n",
      "====================================\n",
      "Accuracy: 0.922222\n",
      "Precision: 0.930233\n",
      "Recall: 0.987654\n",
      "f1-score: 0.958084\n",
      "====================================\n"
     ]
    }
   ],
   "source": [
    "def compareModels():\n",
    "    data1=pd.read_csv(\"AdmissionDataset/data.csv\")\n",
    "    data1=data1.sample(frac=1).values\n",
    "    data2=copy.deepcopy(data1)\n",
    "    print(\"====================================\")\n",
    "    print(\"Performance of Logistic Regression\")\n",
    "    accuracy,precision,recall,f1score=logistic(data1,80)\n",
    "    print(\"=================================\")\n",
    "    print(\"Accuracy: \",accuracy)\n",
    "    print(\"Precision: \",precision)\n",
    "    print(\"Recall: \",recall)\n",
    "    print(\"f1-score: \",f1score)\n",
    "    print(\"=================================\")\n",
    "\n",
    "    data2=data2[:,1:]\n",
    "    data2[:,7]=[1 if x>0.5 else 0 for x in data2[:,7]]\n",
    "    train,validate=splitTrainTest(data2,80)\n",
    "    accuracy,precision,recall,f1score=predict(train,validate,7,7,2)\n",
    "    print(\"Performance of KNN model\")\n",
    "    print(\"====================================\")\n",
    "    print(\"Accuracy: %f\"%(accuracy))\n",
    "    print(\"Precision: %f\"%(precision))\n",
    "    print(\"Recall: %f\"%(recall))\n",
    "    print(\"f1-score: %f\"%(f1score))\n",
    "    print(\"====================================\")\n",
    "compareModels()"
   ]
  },
  {
   "cell_type": "markdown",
   "metadata": {
    "_uuid": "2e84ce9602e8a34d0a64e539fc5787af082a9e5e"
   },
   "source": [
    "### Part 3: Graph showing co-relation between threshold value vs precision and recall\n",
    "\n",
    "-In logistic regression model, there are so many cadidate values which can be choose as a **thresold** to convert to numerical outcome of sigmoid function into the binary label.\n",
    "\n",
    "**-Criteria one should use while deciding thresold value**\n",
    "\n",
    "A ROC(Receiver Operator Characteristic Curve) can help in deciding the best threshold value. It is generated by plotting the True Positive Rate (y-axis) against the False Positive Rate (x-axis) as you vary the threshold for assigning observations to a given class.One should select the best threshold for the trade off you want to make. \n",
    "\n",
    "**High Threshold :**\n",
    "High specificity, \n",
    "Low sensitivity\n",
    "<br>\n",
    "**Low Threshold :**\n",
    "Low specificity, \n",
    "High sensitivity\n",
    "\n",
    "In the logistic model we built, on admission dataset, to predict if a student will get admission or not, so when we plot the graph of recall and precision vs different values of thresold and do its cross validation then we find that for \n",
    "the value `0.4` it will give better result most of the times."
   ]
  },
  {
   "cell_type": "code",
   "execution_count": 230,
   "metadata": {
    "_uuid": "053199f10d5ae4fac7c144cac1e73fc0df80aa47"
   },
   "outputs": [],
   "source": [
    "mpl.rcParams.update(mpl.rcParamsDefault)\n",
    "def drawGraph(trainFile,percent):\n",
    "    accuracyList=[]\n",
    "    precisionList=[]\n",
    "    recallList=[]\n",
    "    f1ScoreList=[]\n",
    "    data=pd.read_csv(trainFile)\n",
    "    data=data.sample(frac=1).values\n",
    "    for i in [0.9,0.8,0.7,0.6,0.5,0.4,0.3,0.2,0.1,0]:\n",
    "#         print(i)\n",
    "        datatoPass=copy.deepcopy(data)\n",
    "        accuracy,precision,recall,f1score=logistic(datatoPass,percent,i)\n",
    "        accuracyList.append(accuracy)\n",
    "        precisionList.append(precision)\n",
    "        recallList.append(recall)\n",
    "        f1ScoreList.append(f1score)\n",
    "        \n",
    "    plt.title(\"Correlation between thresold value and performance measures\")\n",
    "    plt.xlabel(\"Thresold value\")\n",
    "    plt.ylabel(\"Performance Measures\")\n",
    "    plt.grid(True)\n",
    "#     plt.plot([0.9,0.8,0.7,0.6,0.5,0.4,0.3,0.2,0.1,0],accuracyList ,color=\"green\", linewidth=2.5,label=\"Accuracy\")\n",
    "    plt.plot([0.9,0.8,0.7,0.6,0.5,0.4,0.3,0.2,0.1,0], precisionList,color=\"orange\", linewidth=2.5,label=\"Precision\")\n",
    "#     plt.plot([ i*0.1 for i in range(0,10)], f1ScoreList,color=\"b\", linewidth=2.5,label=\"F1-Score\")\n",
    "    plt.plot([0.9,0.8,0.7,0.6,0.5,0.4,0.3,0.2,0.1,0], recallList,color=\"m\", linewidth=2.5,label=\"Recall\")\n",
    "    \n",
    "    plt.legend(loc=3)\n",
    "    plt.show()\n",
    "    "
   ]
  },
  {
   "cell_type": "code",
   "execution_count": 229,
   "metadata": {
    "_uuid": "ed86a3048089bbae6e1aa422f5972d77579e3a73",
    "scrolled": false
   },
   "outputs": [
    {
     "data": {
      "image/png": "[encoded data removed]",
      "text/plain": [
       "<Figure size 640x480 with 1 Axes>"
      ]
     },
     "metadata": {},
     "output_type": "display_data"
    }
   ],
   "source": [
    "drawGraph(\"AdmissionDataset/data.csv\",80)\n"
   ]
  },
  {
   "cell_type": "markdown",
   "metadata": {
    "_uuid": "68b2843cad08d4cfd1496bccb056b106a7df8174"
   },
   "source": [
    "## Question-3 Logistic regression using One vs All and One vs One approaches."
   ]
  },
  {
   "cell_type": "markdown",
   "metadata": {
    "_uuid": "d4fa7633f213a24ffb50282d5134b780cfcc2ea1"
   },
   "source": [
    "### Part-1: Logistic regression using one vs all\n",
    "\n",
    "One-vs-All strategy involves training a single classifier per class, with the samples of that class as positive samples and all other samples as negatives. This strategy requires the base classifiers to produce a real-valued confidence score for its decision.\n",
    "\n",
    " It produces K classifiers\n",
    " \n",
    " Making decisions means applying all classifiers to an unseen sample x and predicting the label k for which the corresponding classifier reports the highest confidence score:\n",
    "$${\\displaystyle {\\hat {y}}={\\underset {k\\in \\{1\\ldots K\\}}{\\arg \\!\\max }}\\;f_{k}(x)} $$"
   ]
  },
  {
   "cell_type": "code",
   "execution_count": 17,
   "metadata": {
    "_uuid": "f6053f3370481961efd9b44d5ed893d01ead4a0d"
   },
   "outputs": [],
   "source": [
    "def oneToMany(trainF,percent):\n",
    "    data=pd.read_csv(trainF,delimiter=\";\",header=1).values\n",
    "    data=data.sample(frac=1).values\n",
    "    uniq=np.unique(data[:,11])\n",
    "    final=[]\n",
    "    for i in uniq:\n",
    "        datatoPass=copy.deepcopy(data)\n",
    "        predictions,originalY=logistic(datatoPass,percent,0.5,[i for i in range(11)],11,0.01,i)\n",
    "        final.append(predictions)\n",
    "    i=0\n",
    "    count=0\n",
    "    for i in range(len(originalY)):\n",
    "        mx=-1\n",
    "        val=0\n",
    "        for j in range(len(final)):\n",
    "            if final[j][i]>mx:\n",
    "                mx=final[j][i]\n",
    "                val=uniq[j]\n",
    "        if val==originalY[i]:\n",
    "            count+=1\n",
    "    print(\"Accuracy: \",count/len(originalY))"
   ]
  },
  {
   "cell_type": "code",
   "execution_count": 16,
   "metadata": {
    "_uuid": "b3ea38e1bb6c527e438a72c7092e5dfc96315ae8",
    "scrolled": true
   },
   "outputs": [
    {
     "name": "stdout",
     "output_type": "stream",
     "text": [
      "Accuracy:  0.5306122448979592\n"
     ]
    }
   ],
   "source": [
    "oneToMany(\"wine-quality/data.csv\",80)"
   ]
  },
  {
   "cell_type": "markdown",
   "metadata": {
    "_uuid": "9fc14ccafe8dcd1902f6f1b37d6868a80af3a4de"
   },
   "source": [
    "### Part-1: Logistic regression using one vs one\n",
    "\n",
    "In the one-vs-one (OvO) reduction, one trains K (K − 1) / 2 binary classifiers for a K-way multiclass problem; each receives the samples of a pair of classes from the original training set, and must learn to distinguish these two classes. At prediction time, a voting scheme is applied: all K (K − 1) / 2 classifiers are applied to an unseen sample and the class that got the highest number of \"+1\" predictions gets predicted by the combined classifier."
   ]
  },
  {
   "cell_type": "code",
   "execution_count": 187,
   "metadata": {
    "_uuid": "4509026312d10a2509eece2a3ac14ed83c5bc45e"
   },
   "outputs": [],
   "source": [
    "def oneToone(trainF,percent):\n",
    "    data=pd.read_csv(trainF,delimiter=\";\",header=1)\n",
    "    data=data.sample(frac=1).values\n",
    "    train,test=splitTrainTest(data,80)\n",
    "    dataDict={}\n",
    "    for row in train:\n",
    "        dataDict.setdefault(row[11],[]).append(row)\n",
    "    uniq=list(dataDict.keys())\n",
    "    n=len(uniq)\n",
    "    final=[] #contains prediction values list for all pairs\n",
    "    pairs=[]\n",
    "    for i in range(n-1):\n",
    "        for j in range(i+1,n):\n",
    "            datatoPass=np.array(dataDict[uniq[i]]+dataDict[uniq[j]])\n",
    "            testtoPass=copy.deepcopy(test)\n",
    "            predictions,originalY=logistic(datatoPass,percent,0.5,[i for i in range(11)],11,0.01,uniq[i],testtoPass)\n",
    "            final.append(predictions)\n",
    "            pairs.append((uniq[i],uniq[j]))\n",
    "    totalPairs=len(pairs)\n",
    "    count=0\n",
    "    bins={}\n",
    "    for i in range(len(originalY)):\n",
    "        mx=-1\n",
    "        for j in range(len(pairs)):\n",
    "            mxpair=pairs[j]\n",
    "            if final[j][i]>=0.5:\n",
    "                bins[mxpair[0]]=bins.get(mxpair[0],0)+1\n",
    "            else:\n",
    "                bins[mxpair[1]]=bins.get(mxpair[1],0)+1\n",
    "        pred=max(bins, key=bins.get)\n",
    "        if pred==originalY[i]:\n",
    "            count+=1\n",
    "    print(\"Accuracy: \",count/len(originalY))"
   ]
  },
  {
   "cell_type": "code",
   "execution_count": 188,
   "metadata": {
    "_uuid": "fb1b2287282b74729e74588cc86d4f9c53a0ee96"
   },
   "outputs": [
    {
     "name": "stdout",
     "output_type": "stream",
     "text": [
      "Accuracy:  0.481859410430839\n"
     ]
    }
   ],
   "source": [
    "oneToone(\"wine-quality/data.csv\",80)"
   ]
  }
 ],
 "metadata": {
  "kernelspec": {
   "display_name": "Python 3",
   "language": "python",
   "name": "python3"
  },
  "language_info": {
   "codemirror_mode": {
    "name": "ipython",
    "version": 3
   },
   "file_extension": ".py",
   "mimetype": "text/x-python",
   "name": "python",
   "nbconvert_exporter": "python",
   "pygments_lexer": "ipython3",
   "version": "3.7.1"
  }
 },
 "nbformat": 4,
 "nbformat_minor": 1
}
