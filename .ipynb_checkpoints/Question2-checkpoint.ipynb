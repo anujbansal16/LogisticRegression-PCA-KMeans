{
 "cells": [
  {
   "cell_type": "markdown",
   "metadata": {},
   "source": [
    "# Assignment-3"
   ]
  },
  {
   "cell_type": "markdown",
   "metadata": {},
   "source": [
    "## - Import Libraries\n",
    "\n",
    "Import necessary libraries used in these assignment."
   ]
  },
  {
   "cell_type": "code",
   "execution_count": 4,
   "metadata": {},
   "outputs": [],
   "source": [
    "import numpy as np\n",
    "import pandas as pd\n",
    "import copy\n",
    "import math\n",
    "import operator\n",
    "import matplotlib.pyplot as plt\n",
    "import matplotlib as mpl"
   ]
  },
  {
   "cell_type": "code",
   "execution_count": 5,
   "metadata": {},
   "outputs": [],
   "source": [
    "def splitTrainTest(data,percent):\n",
    "    total=len(data)\n",
    "    trainTotal=int(total*percent*0.01)\n",
    "    testTotal=total-trainTotal\n",
    "    return (data[0:trainTotal],data[trainTotal:total])"
   ]
  },
  {
   "cell_type": "code",
   "execution_count": 6,
   "metadata": {},
   "outputs": [],
   "source": [
    "def traintestXY(train,test,independentVariable,targetIndex):\n",
    "    trainX=train[:,independentVariable]\n",
    "    trainX=((trainX-trainX.mean(axis=0))/trainX.std(axis=0))    \n",
    "    testX=test[:,independentVariable]\n",
    "    testX=((testX-testX.mean(axis=0))/testX.std(axis=0))    \n",
    "    trainY=train[:,targetIndex]\n",
    "    trainY=trainY.reshape(-1,1)\n",
    "    testY=test[:,targetIndex]\n",
    "    return (trainX,trainY,testX,testY)"
   ]
  },
  {
   "cell_type": "markdown",
   "metadata": {},
   "source": [
    "## Question-2"
   ]
  },
  {
   "cell_type": "markdown",
   "metadata": {},
   "source": [
    "### Part-1: Logistic Regression "
   ]
  },
  {
   "cell_type": "code",
   "execution_count": 7,
   "metadata": {},
   "outputs": [],
   "source": [
    "def sigmoid(x):\n",
    "    return 1/(1+np.e**(-x))"
   ]
  },
  {
   "cell_type": "code",
   "execution_count": 8,
   "metadata": {},
   "outputs": [],
   "source": [
    "def logisticLoss(yactual,hx):\n",
    "    return -np.mean(yactual*np.log(hx)+(1-yactual)*np.log(1-hx))"
   ]
  },
  {
   "cell_type": "code",
   "execution_count": 74,
   "metadata": {
    "scrolled": true
   },
   "outputs": [],
   "source": [
    "def logistic(data,percent=80,thresold=0.5,independentVariable=[1,2,3,4,5,6,7],targetIndex=8,learningRate=0.1,attr=None,explicitTest=[]):\n",
    "    \n",
    "    if attr!=None:\n",
    "            if len(explicitTest)>0:\n",
    "                #one to one\n",
    "                train=data\n",
    "                test=explicitTest\n",
    "                train[:,targetIndex]=[1 if x==attr else 0 for x in train[:,targetIndex]]\n",
    "            else:\n",
    "                #one to many\n",
    "                train,test=splitTrainTest(data,percent)\n",
    "                train[:,targetIndex]=[1 if x==attr else 0 for x in train[:,targetIndex]]\n",
    "                \n",
    "    else:\n",
    "        #normal logistic\n",
    "        train,test=splitTrainTest(data,percent)\n",
    "        train[:,targetIndex]=[1 if x>=thresold else 0 for x in train[:,targetIndex]]\n",
    "        test[:,targetIndex]=[1 if x>=thresold else 0 for x in test[:,targetIndex]]\n",
    "    \n",
    "    trainX=train[:,independentVariable]\n",
    "    trainX=((trainX-trainX.mean(axis=0))/trainX.std(axis=0))    \n",
    "    trainY=train[:,targetIndex]\n",
    "    \n",
    "    testX=test[:,independentVariable]\n",
    "    testX=((testX-testX.mean(axis=0))/testX.std(axis=0))    \n",
    "    testY=test[:,targetIndex]\n",
    "    \n",
    "    m=len(trainX)\n",
    "    trainY=trainY.reshape(-1,1)\n",
    "    \n",
    "    theta=np.zeros((len(independentVariable),1))\n",
    "    intercept=np.zeros((1,1))\n",
    "    \n",
    "    for epoch in range(6000):\n",
    "        ypred=np.matmul(trainX,theta)+intercept\n",
    "        hx=sigmoid(ypred)\n",
    "        dz=hx-trainY\n",
    "        dTheta=np.matmul(trainX.T,dz)/m\n",
    "        dintercept=np.sum(dz)\n",
    "\n",
    "        theta=theta-learningRate*dTheta\n",
    "        intercept=intercept-learningRate*dintercept\n",
    "#     print(\"=========================================\")\n",
    "#     print(\"Intercept: \")\n",
    "#     print(intercept)\n",
    "#     print(\"Coefficents: \")\n",
    "#     print(theta)\n",
    "#     print(\"=========================================\")\n",
    "    testPred=np.matmul(testX,theta)+intercept\n",
    "        \n",
    "    hxTest=sigmoid(testPred)\n",
    "    if attr!=None:\n",
    "        return (hxTest,testY)\n",
    "    \n",
    "    \n",
    "    \n",
    "    accuracyList=[]\n",
    "    precisionList=[]\n",
    "    recallList=[]\n",
    "    f1ScoreList=[]\n",
    "    count=0\n",
    "    TP=0\n",
    "    TN=0\n",
    "    FP=0\n",
    "    FN=0\n",
    "    precision=0\n",
    "    recall=0\n",
    "    for a,b in zip(testY,hxTest):\n",
    "        orig=a\n",
    "#         if a>=thresold:\n",
    "#             orig=1\n",
    "#         else:\n",
    "#             orig=0\n",
    "        if b>=thresold:\n",
    "            pred=1\n",
    "        else:\n",
    "            pred=0\n",
    "        if orig==pred:\n",
    "            count+=1\n",
    "            if pred==1:\n",
    "                TP+=1\n",
    "            else:\n",
    "                TN+=1\n",
    "        else:\n",
    "            if pred==1:\n",
    "                FP+=1\n",
    "            else:\n",
    "                FN+=1\n",
    "#         print(\"%10s | %10s\"%(a,b))\n",
    "    accuracy=count/len(testY)\n",
    "    recall=TP/(TP+FN)\n",
    "    precision=TP/(TP+FP)\n",
    "    f1score=(2*recall*precision)/(recall+precision)\n",
    "\n",
    "    return (accuracy,precision,recall,f1score)\n"
   ]
  },
  {
   "cell_type": "code",
   "execution_count": 75,
   "metadata": {},
   "outputs": [
    {
     "name": "stdout",
     "output_type": "stream",
     "text": [
      "=================================\n",
      "Accuracy:  0.9444444444444444\n",
      "Precision:  0.9523809523809523\n",
      "Recall:  0.9876543209876543\n",
      "f1-score:  0.9696969696969696\n",
      "=================================\n"
     ]
    }
   ],
   "source": [
    "def runlog():\n",
    "    data=pd.read_csv(\"AdmissionDataset/data.csv\").values\n",
    "#     data=data.sample(frac=1).values\n",
    "    accuracy,precision,recall,f1score=logistic(data,80,0.5)\n",
    "    print(\"=================================\")\n",
    "    print(\"Accuracy: \",accuracy)\n",
    "    print(\"Precision: \",precision)\n",
    "    print(\"Recall: \",recall)\n",
    "    print(\"f1-score: \",f1score)\n",
    "    print(\"=================================\")\n",
    "runlog()"
   ]
  },
  {
   "cell_type": "markdown",
   "metadata": {},
   "source": [
    "### Part-2 Comparision of logistic regression and KNN model"
   ]
  },
  {
   "cell_type": "code",
   "execution_count": 41,
   "metadata": {},
   "outputs": [],
   "source": [
    "def distMeasure(dataset,testdataset,targetIndex,p):\n",
    "    n=len(testdataset)\n",
    "    dist=0\n",
    "    for i in range(n):\n",
    "        if i==targetIndex:continue\n",
    "        dist+=math.pow(abs(dataset[i]-testdataset[i]),p);\n",
    "    return math.pow(dist,1/p)"
   ]
  },
  {
   "cell_type": "code",
   "execution_count": 42,
   "metadata": {},
   "outputs": [],
   "source": [
    "def KNNAlgo(train,testRecord,k,targetIndex,p):\n",
    "    dists={}\n",
    "    count=0\n",
    "    if p==3:\n",
    "        funct=chebyshev\n",
    "    else:\n",
    "        funct=distMeasure\n",
    "    for trainRecord in train:\n",
    "        dist=funct(trainRecord,testRecord,targetIndex,p)\n",
    "        dists[(str(trainRecord),trainRecord[targetIndex],count)]=dist\n",
    "        count+=1\n",
    "    sortedDict= sorted(dists.items(), key=operator.itemgetter(1))\n",
    "    labelDict={}\n",
    "    for i in range(k):\n",
    "        if sortedDict[i][0][1] in labelDict.keys():\n",
    "            labelDict[sortedDict[i][0][1]]+=1\n",
    "        else:\n",
    "            labelDict[sortedDict[i][0][1]]=1\n",
    "    return max(labelDict.items(),key=operator.itemgetter(1))[0]"
   ]
  },
  {
   "cell_type": "code",
   "execution_count": 10,
   "metadata": {},
   "outputs": [],
   "source": [
    "def predict(train,test,k,targetIndex,p):\n",
    "    count=0\n",
    "    TP=0\n",
    "    TN=0\n",
    "    FP=0\n",
    "    FN=0\n",
    "    precision=0\n",
    "    recall=0\n",
    "    for testRecord in test:\n",
    "        predicted=KNNAlgo(train,testRecord,k,targetIndex,p)\n",
    "        actual=testRecord[targetIndex]\n",
    "        if actual==predicted:\n",
    "            count+=1\n",
    "            if predicted==1:\n",
    "                TP+=1\n",
    "            else:\n",
    "                TN+=1\n",
    "        else:\n",
    "            if predicted==1:\n",
    "                FP+=1\n",
    "            else:\n",
    "                FN+=1\n",
    "    accuracy=count/len(test)\n",
    "    recall=TP/(TP+FN)\n",
    "    precision=TP/(TP+FP)\n",
    "    f1score=(2*recall*precision)/(recall+precision)\n",
    "    return (accuracy,precision,recall,f1score)"
   ]
  },
  {
   "cell_type": "code",
   "execution_count": 18,
   "metadata": {
    "scrolled": true
   },
   "outputs": [
    {
     "name": "stdout",
     "output_type": "stream",
     "text": [
      "====================================\n",
      "Performance of Logistic Regression\n",
      "=================================\n",
      "Accuracy:  0.9444444444444444\n",
      "Precision:  0.9418604651162791\n",
      "Recall:  1.0\n",
      "f1-score:  0.970059880239521\n",
      "=================================\n",
      "Performance of KNN model\n",
      "====================================\n",
      "Accuracy: 0.944444\n",
      "Precision: 0.941860\n",
      "Recall: 1.000000\n",
      "f1-score: 0.970060\n",
      "====================================\n"
     ]
    }
   ],
   "source": [
    "def compareModels():\n",
    "    data1=pd.read_csv(\"AdmissionDataset/data.csv\").values\n",
    "    data2=copy.deepcopy(data1)\n",
    "#     data=data.sample(frac=1).values\n",
    "    print(\"====================================\")\n",
    "    print(\"Performance of Logistic Regression\")\n",
    "    accuracy,precision,recall,f1score=logistic(data1,80)\n",
    "    print(\"=================================\")\n",
    "    print(\"Accuracy: \",accuracy)\n",
    "    print(\"Precision: \",precision)\n",
    "    print(\"Recall: \",recall)\n",
    "    print(\"f1-score: \",f1score)\n",
    "    print(\"=================================\")\n",
    "\n",
    "    data2=data2[:,1:]\n",
    "    data2[:,7]=[1 if x>0.5 else 0 for x in data2[:,7]]\n",
    "    train,validate=splitTrainTest(data2,80)\n",
    "    accuracy,precision,recall,f1score=predict(train,validate,7,7,2)\n",
    "    print(\"Performance of KNN model\")\n",
    "    print(\"====================================\")\n",
    "    print(\"Accuracy: %f\"%(accuracy))\n",
    "    print(\"Precision: %f\"%(precision))\n",
    "    print(\"Recall: %f\"%(recall))\n",
    "    print(\"f1-score: %f\"%(f1score))\n",
    "    print(\"====================================\")\n",
    "compareModels()"
   ]
  },
  {
   "cell_type": "markdown",
   "metadata": {},
   "source": [
    "### Part 3"
   ]
  },
  {
   "cell_type": "code",
   "execution_count": 28,
   "metadata": {},
   "outputs": [],
   "source": [
    "mpl.rcParams.update(mpl.rcParamsDefault)\n",
    "def drawGraph(trainFile,percent):\n",
    "    accuracyList=[]\n",
    "    precisionList=[]\n",
    "    recallList=[]\n",
    "    f1ScoreList=[]\n",
    "    data=pd.read_csv(trainFile).values\n",
    "#     data=data.sample(frac=1).values\n",
    "    for i in [0.9,0.8,0.7,0.6,0.5,0.4,0.3,0.2,0.1,0]:\n",
    "        print(i)\n",
    "        datatoPass=copy.deepcopy(data)\n",
    "        accuracy,precision,recall,f1score=logistic(datatoPass,percent,i)\n",
    "        accuracyList.append(accuracy)\n",
    "        precisionList.append(precision)\n",
    "        recallList.append(recall)\n",
    "        f1ScoreList.append(f1score)\n",
    "        \n",
    "    plt.title(\"Correlation between thresold value and performance measures\")\n",
    "    plt.xlabel(\"Thresold value\")\n",
    "    plt.ylabel(\"Performance Measures\")\n",
    "    plt.grid(True)\n",
    "#     print(precisionList)\n",
    "#     print(recallList)\n",
    "#     plt.plot([ i*0.1 for i in range(0,10)],accuracyList ,color=\"green\", linewidth=2.5,label=\"Accuracy\")\n",
    "    plt.plot([0.9,0.8,0.7,0.6,0.5,0.4,0.3,0.2,0.1,0], precisionList,color=\"orange\", linewidth=2.5,label=\"Precision\")\n",
    "#     plt.plot([ i*0.1 for i in range(0,10)], f1ScoreList,color=\"b\", linewidth=2.5,label=\"F1-Score\")\n",
    "    plt.plot([0.9,0.8,0.7,0.6,0.5,0.4,0.3,0.2,0.1,0], recallList,color=\"m\", linewidth=2.5,label=\"Recall\")\n",
    "    \n",
    "    plt.legend(loc=3)\n",
    "    plt.show()\n",
    "    "
   ]
  },
  {
   "cell_type": "code",
   "execution_count": 238,
   "metadata": {
    "scrolled": false
   },
   "outputs": [
    {
     "name": "stdout",
     "output_type": "stream",
     "text": [
      "0.9\n",
      "0.8\n",
      "0.7\n",
      "0.6\n",
      "0.5\n",
      "0.4\n",
      "0.3\n",
      "0.2\n",
      "0.1\n",
      "0\n"
     ]
    },
    {
     "data": {
      "image/png": "[encoded data removed]",
      "text/plain": [
       "<Figure size 640x480 with 1 Axes>"
      ]
     },
     "metadata": {},
     "output_type": "display_data"
    }
   ],
   "source": [
    "drawGraph(\"AdmissionDataset/data.csv\",80)\n"
   ]
  },
  {
   "cell_type": "markdown",
   "metadata": {},
   "source": [
    "## One to  many"
   ]
  },
  {
   "cell_type": "code",
   "execution_count": 91,
   "metadata": {},
   "outputs": [],
   "source": [
    "def oneToMany():\n",
    "    data=pd.read_csv(\"wine-quality/data.csv\",delimiter=\";\",header=1).values\n",
    "#     data=data.sample(frac=1).values\n",
    "    uniq=np.unique(data[:,11])\n",
    "    final=[]\n",
    "    for i in uniq:\n",
    "        datatoPass=copy.deepcopy(data)\n",
    "        predictions,originalY=logistic(datatoPass,80,0.5,[i for i in range(11)],11,0.01,i)\n",
    "        final.append(predictions)\n",
    "    i=0\n",
    "    count=0\n",
    "    for i in range(len(originalY)):\n",
    "        mx=-1\n",
    "        val=0\n",
    "        for j in range(len(final)):\n",
    "            if final[j][i]>mx:\n",
    "                mx=final[j][i]\n",
    "                val=uniq[j]\n",
    "        if val==originalY[i]:\n",
    "            count+=1\n",
    "#     for pred in zip(final[0],final[1],final[2],final[3],final[4],final[5],final[6]):\n",
    "#         if uniq[np.argmax(pred)]==originalY[i]:\n",
    "#             count+=1\n",
    "#         i+=1\n",
    "    print(count/len(originalY))\n",
    "#     print(originalY)\n",
    "#     return (uniq,final,originalY)\n"
   ]
  },
  {
   "cell_type": "code",
   "execution_count": 92,
   "metadata": {
    "scrolled": true
   },
   "outputs": [
    {
     "name": "stdout",
     "output_type": "stream",
     "text": [
      "0.5306122448979592\n"
     ]
    }
   ],
   "source": [
    "final=oneToMany()"
   ]
  },
  {
   "cell_type": "markdown",
   "metadata": {},
   "source": [
    "### One to One"
   ]
  },
  {
   "cell_type": "code",
   "execution_count": null,
   "metadata": {},
   "outputs": [],
   "source": [
    "def oneToone():\n",
    "    data=pd.read_csv(\"wine-quality/data.csv\",delimiter=\";\",header=1)\n",
    "    data=data.sample(frac=1).values\n",
    "    train,test=splitTrainTest(data,80)\n",
    "    dataDict={}\n",
    "    for row in train:\n",
    "        dataDict.setdefault(row[11],[]).append(row)\n",
    "    uniq=list(dataDict.keys())\n",
    "    n=len(uniq)\n",
    "    final=[] #contains prediction values list for all pairs\n",
    "    pairs=[]\n",
    "    for i in range(n-1):\n",
    "        for j in range(i+1,n):\n",
    "            datatoPass=np.array(dataDict[uniq[i]]+dataDict[uniq[j]])\n",
    "            testtoPass=copy.deepcopy(test)\n",
    "            predictions,originalY=logistic(datatoPass,80,0.5,[i for i in range(11)],11,0.01,uniq[i],testtoPass)\n",
    "            final.append(predictions)\n",
    "            pairs.append((uniq[i],uniq[j]))\n",
    "    totalPairs=len(pairs)\n",
    "    count=0\n",
    "    for i in range(len(originalY)):\n",
    "        mx=-1\n",
    "        for j in range(len(pairs)):\n",
    "            if final[j][i]>mx:\n",
    "                mx=final[j][i]\n",
    "                mxpair=pairs[j]\n",
    "        if mx>=0.5:\n",
    "            pred=mxpair[0]\n",
    "        else:\n",
    "            pred=mxpair[1]\n",
    "        if pred==originalY[i]:\n",
    "            count+=1\n",
    "    print(count/len(originalY))\n",
    "        \n",
    "oneToone()"
   ]
  },
  {
   "cell_type": "code",
   "execution_count": null,
   "metadata": {},
   "outputs": [],
   "source": []
  },
  {
   "cell_type": "code",
   "execution_count": null,
   "metadata": {},
   "outputs": [],
   "source": []
  }
 ],
 "metadata": {
  "kernelspec": {
   "display_name": "Python 3",
   "language": "python",
   "name": "python3"
  },
  "language_info": {
   "codemirror_mode": {
    "name": "ipython",
    "version": 3
   },
   "file_extension": ".py",
   "mimetype": "text/x-python",
   "name": "python",
   "nbconvert_exporter": "python",
   "pygments_lexer": "ipython3",
   "version": "3.7.1"
  }
 },
 "nbformat": 4,
 "nbformat_minor": 2
}
